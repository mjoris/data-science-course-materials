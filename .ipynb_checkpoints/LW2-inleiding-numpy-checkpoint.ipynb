{
 "cells": [
  {
   "cell_type": "markdown",
   "metadata": {
    "slideshow": {
     "slide_type": "slide"
    }
   },
   "source": [
    "# NumPy: een inleiding\n",
    "### K. Verbeeck, T. Vermeulen, J. Maervoet\n",
    "Data Science (Theory) -- OGI02i"
   ]
  },
  {
   "cell_type": "markdown",
   "metadata": {
    "slideshow": {
     "slide_type": "subslide"
    }
   },
   "source": [
    "#### Werken met vectoren en matrices in standaard Python"
   ]
  },
  {
   "cell_type": "code",
   "execution_count": 13,
   "metadata": {
    "slideshow": {
     "slide_type": "fragment"
    }
   },
   "outputs": [
    {
     "name": "stdout",
     "output_type": "stream",
     "text": [
      "[5, 3.2, 6, 5, 3.2, 6]\n",
      "[5, 3.2, 6, 5, 3.2, 6, 5, 3.2, 6]\n",
      "[[0, 1, 0], [1, 0, 1], [0, 1, 0]]\n"
     ]
    },
    {
     "data": {
      "image/png": "[encoded data removed]",
      "text/plain": [
       "<Figure size 432x288 with 1 Axes>"
      ]
     },
     "metadata": {
      "needs_background": "light"
     },
     "output_type": "display_data"
    }
   ],
   "source": [
    "# lijsten (van lijsten) maar veel beperkingen\n",
    "\n",
    "vector = [5, 3.2, 6]\n",
    "\n",
    "print(vector + vector) # geen vector-optelling\n",
    "print(vector * 3) # geen vector-vermenigvuldiging\n",
    "\n",
    "matrix = [[0, 1, 0], [1, 0, 1], [0, 1, 0]]\n",
    "\n",
    "print(matrix) # geen pretty-print\n",
    "\n",
    "# wel integratie in bv matplotlib\n",
    "import matplotlib.pyplot as plt\n",
    "_, ax = plt.subplots()\n",
    "ax.imshow(matrix)\n",
    "plt.show()"
   ]
  },
  {
   "cell_type": "markdown",
   "metadata": {
    "slideshow": {
     "slide_type": "subslide"
    }
   },
   "source": [
    "### De NumPy library\n",
    "* Performante ondersteuning voor grote multi-dimensionele arrays (matrices) en bijhorende operatoren uit de numerieke wiskunde\n",
    "* Centrale datastructuur: de n-dimensionale array _ndarray_ \n",
    "* __[Quickstart](https://docs.scipy.org/doc/numpy/user/quickstart.html)__"
   ]
  },
  {
   "cell_type": "markdown",
   "metadata": {
    "slideshow": {
     "slide_type": "subslide"
    }
   },
   "source": [
    "#### Aanmaken van NumPy arrays en basiseigenschappen"
   ]
  },
  {
   "cell_type": "code",
   "execution_count": 2,
   "metadata": {
    "slideshow": {
     "slide_type": "fragment"
    }
   },
   "outputs": [
    {
     "name": "stdout",
     "output_type": "stream",
     "text": [
      "1 \n",
      " <class 'numpy.ndarray'>\n",
      "[1 2 3]\n"
     ]
    }
   ],
   "source": [
    "import numpy as np\n",
    "\n",
    "# aanmaak met np.array\n",
    "a = np.array([1, 2, 3])\n",
    "print(a[0], '\\n', type(a))\n",
    "print(a)"
   ]
  },
  {
   "cell_type": "code",
   "execution_count": 3,
   "metadata": {
    "slideshow": {
     "slide_type": "subslide"
    }
   },
   "outputs": [
    {
     "name": "stdout",
     "output_type": "stream",
     "text": [
      "[[1. 2.]\n",
      " [0. 0.]]\n",
      "\n",
      "ndim:  2\n",
      "\n",
      "shape:  (2, 2)\n",
      "\n",
      "dtype:  float64\n",
      "\n",
      "size:  4\n",
      "[[ 0  1  2  3  4]\n",
      " [ 5  6  7  8  9]\n",
      " [10 11 12 13 14]\n",
      " [15 16 17 18 19]\n",
      " [20 21 22 23 24]]\n"
     ]
    }
   ],
   "source": [
    "# basiseigenschappen\n",
    "matrix = np.array([[1, 2.0], [0, 0]])\n",
    "print(matrix)\n",
    "print('\\nndim: ', matrix.ndim)\n",
    "print('\\nshape: ', matrix.shape)\n",
    "print('\\ndtype: ', matrix.dtype) # NumPy heeft eigen datatypes\n",
    "print('\\nsize: ', matrix.size)\n",
    "\n",
    "# wijzigen van de shape\n",
    "matrix = np.array(range(25)).reshape(5,5)\n",
    "print(matrix)"
   ]
  },
  {
   "cell_type": "code",
   "execution_count": 4,
   "metadata": {
    "slideshow": {
     "slide_type": "subslide"
    }
   },
   "outputs": [
    {
     "name": "stdout",
     "output_type": "stream",
     "text": [
      "[0.   0.25 0.5  0.75 1.   1.25 1.5  1.75 2.   2.25 2.5  2.75]\n",
      "[0.   0.25 0.5  0.75 1.   1.25 1.5  1.75 2.   2.25 2.5  2.75]\n"
     ]
    }
   ],
   "source": [
    "# aanmaak met built-in functions\n",
    "\n",
    "print(np.arange(0, 3, 0.25)) # standard python kan geen ranges met kommagetallen genereren\n",
    "print(np.linspace(0, 2.75, 12)) # interval opgedeeld in gelijke delen"
   ]
  },
  {
   "cell_type": "code",
   "execution_count": 5,
   "metadata": {
    "slideshow": {
     "slide_type": "fragment"
    }
   },
   "outputs": [
    {
     "name": "stdout",
     "output_type": "stream",
     "text": [
      "[[0. 0. 0.]\n",
      " [0. 0. 0.]\n",
      " [0. 0. 0.]]\n",
      "[[1. 0.]\n",
      " [0. 1.]]\n"
     ]
    }
   ],
   "source": [
    "print(np.zeros([3,3]))\n",
    "print(np.eye(2))"
   ]
  },
  {
   "cell_type": "markdown",
   "metadata": {
    "slideshow": {
     "slide_type": "subslide"
    }
   },
   "source": [
    "#### Rekenkundige bewerkingen op element-niveau"
   ]
  },
  {
   "cell_type": "code",
   "execution_count": 6,
   "metadata": {
    "slideshow": {
     "slide_type": "fragment"
    }
   },
   "outputs": [
    {
     "name": "stdout",
     "output_type": "stream",
     "text": [
      "[[ 1  3  5  7  9]\n",
      " [11 13 15 17 19]\n",
      " [21 23 25 27 29]\n",
      " [31 33 35 37 39]\n",
      " [41 43 45 47 49]]\n"
     ]
    }
   ],
   "source": [
    "# rekenkundige bewerkingen op element-niveau\n",
    "matrix = matrix * 2\n",
    "matrix = matrix + 1\n",
    "print(matrix)"
   ]
  },
  {
   "cell_type": "markdown",
   "metadata": {
    "slideshow": {
     "slide_type": "subslide"
    }
   },
   "source": [
    "#### Indexing en sliceing"
   ]
  },
  {
   "cell_type": "code",
   "execution_count": 7,
   "metadata": {
    "slideshow": {
     "slide_type": "fragment"
    }
   },
   "outputs": [
    {
     "name": "stdout",
     "output_type": "stream",
     "text": [
      "11\n",
      "9\n",
      "[41 43 45 47 49]\n",
      "\n",
      " [[ 5  7  9]\n",
      " [15 17 19]]\n",
      "\n",
      " [[ 1  5  9]\n",
      " [21 25 29]\n",
      " [41 45 49]]\n",
      "\n",
      " [[41 43 45 47 49]\n",
      " [31 33 35 37 39]\n",
      " [21 23 25 27 29]\n",
      " [11 13 15 17 19]\n",
      " [ 1  3  5  7  9]]\n"
     ]
    }
   ],
   "source": [
    "# indexing en slicing - deel 1\n",
    "# slicing creëert views, geen kopieën\n",
    "print(matrix[1,0])\n",
    "print(matrix[0, -1])\n",
    "print(matrix[4]) # zelfde als [4,:]\n",
    "\n",
    "print('\\n', matrix[:2,-3:])\n",
    "print('\\n', matrix[::2,::2]) # step size 2\n",
    "print('\\n', matrix[::-1]) # negative step size"
   ]
  },
  {
   "cell_type": "code",
   "execution_count": 8,
   "metadata": {
    "slideshow": {
     "slide_type": "subslide"
    }
   },
   "outputs": [
    {
     "name": "stdout",
     "output_type": "stream",
     "text": [
      "[10 10  9  9]\n",
      "\n",
      " [[ 1  3  5  7  9]\n",
      " [11 13 15 17 19]\n",
      " [21 23 25 27 29]\n",
      " [31 33 35 37 39]\n",
      " [41 43 45 47 49]]\n",
      "\n",
      " [13 15 15]\n"
     ]
    }
   ],
   "source": [
    "# indexing en slicing - deel 2\n",
    "# index arrays\n",
    "test = np.array([10, 9, 8, 7])\n",
    "print(test[ np.array([0, 0, 1, 1]) ])"
   ]
  },
  {
   "cell_type": "code",
   "execution_count": 9,
   "metadata": {
    "slideshow": {
     "slide_type": "subslide"
    }
   },
   "outputs": [
    {
     "name": "stdout",
     "output_type": "stream",
     "text": [
      "[[False False False False False]\n",
      " [False False False False False]\n",
      " [False False False  True  True]\n",
      " [ True  True  True  True  True]\n",
      " [ True  True  True  True  True]]\n",
      "[[ 1  3  5  7  9]\n",
      " [11 13 15 17 19]\n",
      " [21 23 25  0  0]\n",
      " [ 0  0  0  0  0]\n",
      " [ 0  0  0  0  0]]\n"
     ]
    }
   ],
   "source": [
    "# indexing en slicing - deel 3\n",
    "# boolean \"mask\" index arrays\n",
    "\n",
    "masker = (matrix > 25)\n",
    "print(masker)\n",
    "\n",
    "matrix[masker] = 0\n",
    "print(matrix)"
   ]
  },
  {
   "cell_type": "markdown",
   "metadata": {
    "slideshow": {
     "slide_type": "subslide"
    }
   },
   "source": [
    "#### Operatoren"
   ]
  },
  {
   "cell_type": "code",
   "execution_count": 10,
   "metadata": {
    "slideshow": {
     "slide_type": "fragment"
    }
   },
   "outputs": [
    {
     "name": "stdout",
     "output_type": "stream",
     "text": [
      "[[2. 1. 1.]\n",
      " [1. 2. 1.]\n",
      " [1. 1. 2.]]\n",
      "[[5 5 5]\n",
      " [5 5 5]\n",
      " [5 5 5]]\n",
      "[[10.  5.  5.]\n",
      " [ 5. 10.  5.]\n",
      " [ 5.  5. 10.]]\n",
      "[[20. 20. 20.]\n",
      " [20. 20. 20.]\n",
      " [20. 20. 20.]]\n"
     ]
    }
   ],
   "source": [
    "# basisoperatoren\n",
    "\n",
    "d = np.ones(3) + np.eye(3) # som op element-niveau\n",
    "print(d)\n",
    "\n",
    "e = np.full((3,3), 5)\n",
    "print(e)\n",
    "print(d*e) # produkt op element-niveau (!)\n",
    "print(d@e) # dot-produkt (!)"
   ]
  },
  {
   "cell_type": "code",
   "execution_count": 11,
   "metadata": {
    "slideshow": {
     "slide_type": "subslide"
    }
   },
   "outputs": [
    {
     "name": "stdout",
     "output_type": "stream",
     "text": [
      "[[1 4]\n",
      " [2 5]\n",
      " [3 6]]\n"
     ]
    }
   ],
   "source": [
    "a = np.array([[1,2,3],[4,5,6]])\n",
    "print(a.T) # getransponeerde"
   ]
  },
  {
   "cell_type": "code",
   "execution_count": 12,
   "metadata": {
    "slideshow": {
     "slide_type": "subslide"
    }
   },
   "outputs": [
    {
     "name": "stdout",
     "output_type": "stream",
     "text": [
      "11.555555555555555\n",
      "[ 9.83333333 13.         11.83333333]\n",
      "[10.25 12.95 11.2 ]\n"
     ]
    }
   ],
   "source": [
    "# universal functions\n",
    "\n",
    "scores = np.array([[14.5, 7, 9], [12, 18, 11.5], [3, 14, 15]])\n",
    "print(np.mean(scores))\n",
    "print(np.mean(scores, axis = 0))\n",
    "print(np.average(scores, axis = 1, weights = [0.3, 0.2, 0.5]))"
   ]
  },
  {
   "cell_type": "markdown",
   "metadata": {
    "slideshow": {
     "slide_type": "subslide"
    }
   },
   "source": [
    "#### Must-reads\n",
    "* __[Structured arrays](https://docs.scipy.org/doc/numpy/user/basics.rec.html)__\n",
    "* __[Linear algebra](https://docs.scipy.org/doc/numpy-1.13.0/reference/routines.linalg.html)__ ( __[intro](https://docs.scipy.org/doc/numpy/user/quickstart.html#linear-algebra)__ ) "
   ]
  },
  {
   "attachments": {
    "image.png": {
     "image/png": "[encoded data removed]"
    }
   },
   "cell_type": "markdown",
   "metadata": {
    "slideshow": {
     "slide_type": "subslide"
    }
   },
   "source": [
    "![image.png](attachment:image.png)"
   ]
  }
 ],
 "metadata": {
  "celltoolbar": "Slideshow",
  "kernelspec": {
   "display_name": "Python 3",
   "language": "python",
   "name": "python3"
  },
  "language_info": {
   "codemirror_mode": {
    "name": "ipython",
    "version": 3
   },
   "file_extension": ".py",
   "mimetype": "text/x-python",
   "name": "python",
   "nbconvert_exporter": "python",
   "pygments_lexer": "ipython3",
   "version": "3.7.1"
  }
 },
 "nbformat": 4,
 "nbformat_minor": 2
}
